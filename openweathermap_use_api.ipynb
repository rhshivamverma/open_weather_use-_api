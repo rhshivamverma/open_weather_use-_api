{
  "metadata": {
    "kernelspec": {
      "name": "python",
      "display_name": "Python (Pyodide)",
      "language": "python"
    },
    "language_info": {
      "codemirror_mode": {
        "name": "python",
        "version": 3
      },
      "file_extension": ".py",
      "mimetype": "text/x-python",
      "name": "python",
      "nbconvert_exporter": "python",
      "pygments_lexer": "ipython3",
      "version": "3.8"
    }
  },
  "nbformat_minor": 5,
  "nbformat": 4,
  "cells": [
    {
      "id": "a1c9f54d-8e09-4afb-8229-442d66e82ff2",
      "cell_type": "code",
      "source": "import requests as rq\nimport json",
      "metadata": {
        "trusted": true
      },
      "outputs": [],
      "execution_count": 2
    },
    {
      "id": "2ae4d8c4-a743-4e66-807e-8d10df097c8b",
      "cell_type": "code",
      "source": "url = 'https://api.openweathermap.org/data/2.5/weather?q=paris&appid=cbbe65c7f4331287a78c4af68e1a6755&units=metric'\n\napi_x = rq.get(url)\napi_y = api_x.json()\n\nif api_y[\"cod\"] != \"404\":\n    api_z = api_y[\"main\"]\n    City_name = api_y[\"name\"]\n    print(f\"The Temperature {City_name} : {api_z[\"temp\"]}\")\nelse:\n    print(\"City Not Found\")",
      "metadata": {
        "trusted": true
      },
      "outputs": [
        {
          "name": "stdout",
          "output_type": "stream",
          "text": "The Temperature Paris : 7.69\n"
        }
      ],
      "execution_count": 3
    },
    {
      "id": "4b5291f4-68d6-4a84-b6c7-60b5a08fce37",
      "cell_type": "code",
      "source": "",
      "metadata": {
        "trusted": true
      },
      "outputs": [],
      "execution_count": null
    }
  ]
}